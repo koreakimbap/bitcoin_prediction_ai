{
  "cells": [
    {
      "cell_type": "code",
      "metadata": {},
      "source": [
        "# fetch_data.py\n",
        "import ccxt\n",
        "import pandas as pd\n",
        "import time\n",
        "from ta.momentum import RSIIndicator\n",
        "from ta.trend import MACD\n",
        "\n",
        "def fetch_futures_data_with_indicators(symbol='BTC/USDT', timeframe='15m', limit=1000, total_candles=182000):\n",
        "    exchange = ccxt.binance({\n",
        "        'rateLimit': 1200,\n",
        "        'enableRateLimit': True,\n",
        "        'options': {\n",
        "            'defaultType': 'future',\n",
        "        }\n",
        "    })\n",
        "\n",
        "    all_data = []\n",
        "    since = 0  # Start fetching data from the beginning (can be adjusted to a specific date)\n",
        "\n",
        "    while len(all_data) < total_candles:\n",
        "        try:\n",
        "            # Fetch OHLCV data\n",
        "            ohlcv = exchange.fetch_ohlcv(symbol, timeframe, limit=limit, since=since)\n",
        "            if not ohlcv:\n",
        "                break\n",
        "            all_data.extend(ohlcv)\n",
        "            since = ohlcv[-1][0] + 1  # Update the starting point for the next fetch\n",
        "            time.sleep(1)  # Prevent hitting the rate limit\n",
        "        except Exception as e:\n",
        "            print(f\"Error: {e}\")\n",
        "            time.sleep(5)  # Retry after a short delay\n",
        "\n",
        "    # Convert fetched data to a DataFrame\n",
        "    df = pd.DataFrame(all_data, columns=['timestamp', 'open', 'high', 'low', 'close', 'volume'])\n",
        "    df['datetime'] = pd.to_datetime(df['timestamp'], unit='ms')  # Convert timestamp to datetime\n",
        "    df = df[['datetime', 'open', 'high', 'low', 'close', 'volume']]  # Reorder columns\n",
        "\n",
        "    # Add RSI (Relative Strength Index)\n",
        "    rsi = RSIIndicator(close=df['close'], window=14)\n",
        "    df['RSI'] = rsi.rsi()\n",
        "\n",
        "    # Add MACD (Moving Average Convergence Divergence)\n",
        "    macd = MACD(close=df['close'], window_slow=26, window_fast=12, window_sign=9)\n",
        "    df['MACD'] = macd.macd()\n",
        "    df['MACD_signal'] = macd.macd_signal()\n",
        "    df['MACD_hist'] = macd.macd_diff()\n",
        "\n",
        "    return df\n"
      ],
      "outputs": [],
      "execution_count": null
    }
  ],
  "metadata": {
    "anaconda-cloud": {},
    "kernelspec": {
      "display_name": "Python 3",
      "language": "python",
      "name": "python3"
    },
    "language_info": {
      "codemirror_mode": {
        "name": "ipython",
        "version": 3
      },
      "file_extension": ".py",
      "mimetype": "text/x-python",
      "name": "python",
      "nbconvert_exporter": "python",
      "pygments_lexer": "ipython3",
      "version": "3.6.1"
    }
  },
  "nbformat": 4,
  "nbformat_minor": 4
}